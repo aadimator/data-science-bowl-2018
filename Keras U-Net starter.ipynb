{
 "cells": [
  {
   "cell_type": "markdown",
   "metadata": {
    "_cell_guid": "e61ef2d8-f315-4f7f-b07e-1de0f4e8441a",
    "_uuid": "1677fddbb95f7545b6540e9201f3339a0fdbfc5d"
   },
   "source": [
    "# Intro\n",
    "Hello! This rather quick and dirty kernel shows how to get started on segmenting nuclei using a neural network in Keras. \n",
    "\n",
    "The architecture used is the so-called [U-Net](https://arxiv.org/abs/1505.04597), which is very common for image segmentation problems such as this. I believe they also have a tendency to work quite well even on small datasets.\n",
    "\n",
    "Let's get started importing everything we need!"
   ]
  },
  {
   "cell_type": "code",
   "execution_count": 3,
   "metadata": {
    "_cell_guid": "c332549b-8d23-4bb5-8497-e7a8eb8b21d2",
    "_uuid": "5c38504af3a84bee68c66d3cde74443c58df422f"
   },
   "outputs": [],
   "source": [
    "import os\n",
    "import sys\n",
    "import random\n",
    "import warnings\n",
    "\n",
    "import numpy as np\n",
    "import pandas as pd\n",
    "\n",
    "import matplotlib.pyplot as plt\n",
    "\n",
    "from tqdm import tqdm\n",
    "from itertools import chain\n",
    "from skimage.io import imread, imshow, imread_collection, concatenate_images\n",
    "from skimage.transform import resize\n",
    "from skimage.morphology import label\n",
    "\n",
    "from keras.models import Model, load_model\n",
    "from keras.layers import Input\n",
    "from keras.layers.core import Dropout, Lambda\n",
    "from keras.layers.convolutional import Conv2D, Conv2DTranspose\n",
    "from keras.layers.pooling import MaxPooling2D\n",
    "from keras.layers.merge import concatenate\n",
    "from keras.callbacks import EarlyStopping, ModelCheckpoint\n",
    "from keras import backend as K\n",
    "\n",
    "import tensorflow as tf\n",
    "\n",
    "# Set some parameters\n",
    "IMG_WIDTH = 128\n",
    "IMG_HEIGHT = 128\n",
    "IMG_CHANNELS = 3\n",
    "TRAIN_PATH = 'input/stage1_train/'\n",
    "TEST_PATH = 'input/stage1_test/'\n",
    "\n",
    "warnings.filterwarnings('ignore', category=UserWarning, module='skimage')\n",
    "seed = 42\n",
    "random.seed = seed\n",
    "np.random.seed = seed"
   ]
  },
  {
   "cell_type": "code",
   "execution_count": 4,
   "metadata": {
    "_cell_guid": "ffa0caf0-2d1b-40f2-865b-8e6db88526b6",
    "_uuid": "3fb9d6530fbbd0e22e41fc4fd9fd9fc0bff027ac"
   },
   "outputs": [],
   "source": [
    "# Get train and test IDs\n",
    "train_ids = next(os.walk(TRAIN_PATH))[1]\n",
    "test_ids = next(os.walk(TEST_PATH))[1]"
   ]
  },
  {
   "cell_type": "markdown",
   "metadata": {
    "_cell_guid": "59c4a25d-645f-4b74-9c53-145ac78cc481",
    "_uuid": "875af74f980236825de3a650825b46e25632422c"
   },
   "source": [
    "# Get the data\n",
    "Let's first import all the images and associated masks. I downsample both the training and test images to keep things light and manageable, but we need to keep a record of the original sizes of the test images to upsample our predicted masks and create correct run-length encodings later on. There are definitely better ways to handle this, but it works fine for now!"
   ]
  },
  {
   "cell_type": "code",
   "execution_count": 5,
   "metadata": {
    "_cell_guid": "ca0cc34b-c26f-41ee-88d7-975aebdb634e",
    "_uuid": "9e389ba8bdb5b6fc03b231b6a6c84a8bde634053"
   },
   "outputs": [
    {
     "name": "stdout",
     "output_type": "stream",
     "text": [
      "Getting and resizing train images and masks ... \n"
     ]
    },
    {
     "name": "stderr",
     "output_type": "stream",
     "text": [
      "100%|████████████████████████████████████████████████████████████████████████████████| 670/670 [01:22<00:00,  8.09it/s]\n"
     ]
    },
    {
     "name": "stdout",
     "output_type": "stream",
     "text": [
      "Getting and resizing test images ... \n"
     ]
    },
    {
     "name": "stderr",
     "output_type": "stream",
     "text": [
      "100%|██████████████████████████████████████████████████████████████████████████████████| 65/65 [00:00<00:00, 87.30it/s]\n"
     ]
    },
    {
     "name": "stdout",
     "output_type": "stream",
     "text": [
      "Done!\n"
     ]
    }
   ],
   "source": [
    "# Get and resize train images and masks\n",
    "X_train = np.zeros((len(train_ids), IMG_HEIGHT, IMG_WIDTH, IMG_CHANNELS), dtype=np.uint8)\n",
    "Y_train = np.zeros((len(train_ids), IMG_HEIGHT, IMG_WIDTH, 1), dtype=np.bool)\n",
    "print('Getting and resizing train images and masks ... ')\n",
    "sys.stdout.flush()\n",
    "for n, id_ in tqdm(enumerate(train_ids), total=len(train_ids)):\n",
    "    path = TRAIN_PATH + id_\n",
    "    img = imread(path + '/images/' + id_ + '.png')[:,:,:IMG_CHANNELS]\n",
    "    img = resize(img, (IMG_HEIGHT, IMG_WIDTH), mode='constant', preserve_range=True)\n",
    "    X_train[n] = img\n",
    "    mask = np.zeros((IMG_HEIGHT, IMG_WIDTH, 1), dtype=np.bool)\n",
    "    for mask_file in next(os.walk(path + '/masks/'))[2]:\n",
    "        mask_ = imread(path + '/masks/' + mask_file)\n",
    "        mask_ = np.expand_dims(resize(mask_, (IMG_HEIGHT, IMG_WIDTH), mode='constant', \n",
    "                                      preserve_range=True), axis=-1)\n",
    "        mask = np.maximum(mask, mask_)\n",
    "    Y_train[n] = mask\n",
    "\n",
    "# Get and resize test images\n",
    "X_test = np.zeros((len(test_ids), IMG_HEIGHT, IMG_WIDTH, IMG_CHANNELS), dtype=np.uint8)\n",
    "sizes_test = []\n",
    "print('Getting and resizing test images ... ')\n",
    "sys.stdout.flush()\n",
    "for n, id_ in tqdm(enumerate(test_ids), total=len(test_ids)):\n",
    "    path = TEST_PATH + id_\n",
    "    img = imread(path + '/images/' + id_ + '.png')[:,:,:IMG_CHANNELS]\n",
    "    sizes_test.append([img.shape[0], img.shape[1]])\n",
    "    img = resize(img, (IMG_HEIGHT, IMG_WIDTH), mode='constant', preserve_range=True)\n",
    "    X_test[n] = img\n",
    "\n",
    "print('Done!')"
   ]
  },
  {
   "cell_type": "markdown",
   "metadata": {
    "_cell_guid": "c0523b03-1fc5-4505-a1b8-eb35ee617c8a",
    "_uuid": "d4f8327802a1ec6139ce0585953986272ba62ce1"
   },
   "source": [
    "Let's see if things look all right by drawing some random images and their associated masks."
   ]
  },
  {
   "cell_type": "code",
   "execution_count": 6,
   "metadata": {
    "_cell_guid": "88829b53-50ce-45d9-9540-77dd7384ad4c",
    "_uuid": "283af26f0860b7069bdfd133c746e5d20971542c"
   },
   "outputs": [
    {
     "name": "stderr",
     "output_type": "stream",
     "text": [
      "C:\\Users\\aadim\\Anaconda3\\envs\\tensorflow\\lib\\site-packages\\skimage\\io\\_plugins\\matplotlib_plugin.py:51: FutureWarning: Conversion of the second argument of issubdtype from `float` to `np.floating` is deprecated. In future, it will be treated as `np.float64 == np.dtype(float).type`.\n",
      "  out_of_range_float = (np.issubdtype(image.dtype, np.float) and\n"
     ]
    },
    {
     "data": {
      "image/png": "[encoded data removed]",
      "text/plain": [
       "<matplotlib.figure.Figure at 0x1193bcf3e80>"
      ]
     },
     "metadata": {},
     "output_type": "display_data"
    },
    {
     "data": {
      "image/png": "[encoded data removed]",
      "text/plain": [
       "<matplotlib.figure.Figure at 0x1193e7c3a20>"
      ]
     },
     "metadata": {},
     "output_type": "display_data"
    }
   ],
   "source": [
    "# Check if training data looks all right\n",
    "ix = random.randint(0, len(train_ids))\n",
    "imshow(X_train[ix])\n",
    "plt.show()\n",
    "imshow(np.squeeze(Y_train[ix]))\n",
    "plt.show()"
   ]
  },
  {
   "cell_type": "markdown",
   "metadata": {
    "_cell_guid": "2574ffe9-b911-4bfd-a00f-9ba5c25f45de",
    "_uuid": "938648da705689a0f940ff462477c801db3f0737"
   },
   "source": [
    "Seems good!\n",
    "\n",
    "# Create our Keras metric\n",
    "\n",
    "Now we try to define the *mean average precision at different intersection over union (IoU) thresholds* metric in Keras. TensorFlow has a mean IoU metric, but it doesn't have any native support for the mean over multiple thresholds, so I tried to implement this. **I'm by no means certain that this implementation is correct, though!** Any assistance in verifying this would be most welcome! \n",
    "\n",
    "*Update: This implementation is most definitely not correct due to the very large discrepancy between the results reported here and the LB results. It also seems to just increase over time no matter what when you train ... *"
   ]
  },
  {
   "cell_type": "code",
   "execution_count": 7,
   "metadata": {
    "_cell_guid": "c1df6f3a-d58f-434b-9216-ef7be38637d4",
    "_uuid": "5abd38950ae99b60f8afec7656eb654a48d449fe"
   },
   "outputs": [],
   "source": [
    "# Define IoU metric\n",
    "def mean_iou(y_true, y_pred):\n",
    "    prec = []\n",
    "    for t in np.arange(0.5, 1.0, 0.05):\n",
    "        y_pred_ = tf.to_int32(y_pred > t)\n",
    "        score, up_opt = tf.metrics.mean_iou(y_true, y_pred_, 2)\n",
    "        K.get_session().run(tf.local_variables_initializer())\n",
    "        with tf.control_dependencies([up_opt]):\n",
    "            score = tf.identity(score)\n",
    "        prec.append(score)\n",
    "    return K.mean(K.stack(prec), axis=0)"
   ]
  },
  {
   "cell_type": "markdown",
   "metadata": {
    "_cell_guid": "c3b9f148-1dba-4b6a-981b-6cdbf394fc3c",
    "_uuid": "986488a4c5223576be370e224426a30431911eb2"
   },
   "source": [
    "# Build and train our neural network\n",
    "Next we build our U-Net model, loosely based on [U-Net: Convolutional Networks for Biomedical Image Segmentation](https://arxiv.org/pdf/1505.04597.pdf) and very similar to [this repo](https://github.com/jocicmarko/ultrasound-nerve-segmentation) from the Kaggle Ultrasound Nerve Segmentation competition.\n",
    "\n",
    "![](https://lmb.informatik.uni-freiburg.de/people/ronneber/u-net/u-net-architecture.png)"
   ]
  },
  {
   "cell_type": "code",
   "execution_count": 8,
   "metadata": {
    "_cell_guid": "c1dbc57c-b497-4ccb-b077-2053203ab7ed",
    "_uuid": "0aa97d66c29f45dfac9b0f45fcf74ba0e778ba5d"
   },
   "outputs": [
    {
     "name": "stdout",
     "output_type": "stream",
     "text": [
      "__________________________________________________________________________________________________\n",
      "Layer (type)                    Output Shape         Param #     Connected to                     \n",
      "==================================================================================================\n",
      "input_1 (InputLayer)            (None, 128, 128, 3)  0                                            \n",
      "__________________________________________________________________________________________________\n",
      "lambda_1 (Lambda)               (None, 128, 128, 3)  0           input_1[0][0]                    \n",
      "__________________________________________________________________________________________________\n",
      "conv2d_1 (Conv2D)               (None, 128, 128, 16) 448         lambda_1[0][0]                   \n",
      "__________________________________________________________________________________________________\n",
      "dropout_1 (Dropout)             (None, 128, 128, 16) 0           conv2d_1[0][0]                   \n",
      "__________________________________________________________________________________________________\n",
      "conv2d_2 (Conv2D)               (None, 128, 128, 16) 2320        dropout_1[0][0]                  \n",
      "__________________________________________________________________________________________________\n",
      "max_pooling2d_1 (MaxPooling2D)  (None, 64, 64, 16)   0           conv2d_2[0][0]                   \n",
      "__________________________________________________________________________________________________\n",
      "conv2d_3 (Conv2D)               (None, 64, 64, 32)   4640        max_pooling2d_1[0][0]            \n",
      "__________________________________________________________________________________________________\n",
      "dropout_2 (Dropout)             (None, 64, 64, 32)   0           conv2d_3[0][0]                   \n",
      "__________________________________________________________________________________________________\n",
      "conv2d_4 (Conv2D)               (None, 64, 64, 32)   9248        dropout_2[0][0]                  \n",
      "__________________________________________________________________________________________________\n",
      "max_pooling2d_2 (MaxPooling2D)  (None, 32, 32, 32)   0           conv2d_4[0][0]                   \n",
      "__________________________________________________________________________________________________\n",
      "conv2d_5 (Conv2D)               (None, 32, 32, 64)   18496       max_pooling2d_2[0][0]            \n",
      "__________________________________________________________________________________________________\n",
      "dropout_3 (Dropout)             (None, 32, 32, 64)   0           conv2d_5[0][0]                   \n",
      "__________________________________________________________________________________________________\n",
      "conv2d_6 (Conv2D)               (None, 32, 32, 64)   36928       dropout_3[0][0]                  \n",
      "__________________________________________________________________________________________________\n",
      "max_pooling2d_3 (MaxPooling2D)  (None, 16, 16, 64)   0           conv2d_6[0][0]                   \n",
      "__________________________________________________________________________________________________\n",
      "conv2d_7 (Conv2D)               (None, 16, 16, 128)  73856       max_pooling2d_3[0][0]            \n",
      "__________________________________________________________________________________________________\n",
      "dropout_4 (Dropout)             (None, 16, 16, 128)  0           conv2d_7[0][0]                   \n",
      "__________________________________________________________________________________________________\n",
      "conv2d_8 (Conv2D)               (None, 16, 16, 128)  147584      dropout_4[0][0]                  \n",
      "__________________________________________________________________________________________________\n",
      "max_pooling2d_4 (MaxPooling2D)  (None, 8, 8, 128)    0           conv2d_8[0][0]                   \n",
      "__________________________________________________________________________________________________\n",
      "conv2d_9 (Conv2D)               (None, 8, 8, 256)    295168      max_pooling2d_4[0][0]            \n",
      "__________________________________________________________________________________________________\n",
      "dropout_5 (Dropout)             (None, 8, 8, 256)    0           conv2d_9[0][0]                   \n",
      "__________________________________________________________________________________________________\n",
      "conv2d_10 (Conv2D)              (None, 8, 8, 256)    590080      dropout_5[0][0]                  \n",
      "__________________________________________________________________________________________________\n",
      "conv2d_transpose_1 (Conv2DTrans (None, 16, 16, 128)  131200      conv2d_10[0][0]                  \n",
      "__________________________________________________________________________________________________\n",
      "concatenate_1 (Concatenate)     (None, 16, 16, 256)  0           conv2d_transpose_1[0][0]         \n",
      "                                                                 conv2d_8[0][0]                   \n",
      "__________________________________________________________________________________________________\n",
      "conv2d_11 (Conv2D)              (None, 16, 16, 128)  295040      concatenate_1[0][0]              \n",
      "__________________________________________________________________________________________________\n",
      "dropout_6 (Dropout)             (None, 16, 16, 128)  0           conv2d_11[0][0]                  \n",
      "__________________________________________________________________________________________________\n",
      "conv2d_12 (Conv2D)              (None, 16, 16, 128)  147584      dropout_6[0][0]                  \n",
      "__________________________________________________________________________________________________\n",
      "conv2d_transpose_2 (Conv2DTrans (None, 32, 32, 64)   32832       conv2d_12[0][0]                  \n",
      "__________________________________________________________________________________________________\n",
      "concatenate_2 (Concatenate)     (None, 32, 32, 128)  0           conv2d_transpose_2[0][0]         \n",
      "                                                                 conv2d_6[0][0]                   \n",
      "__________________________________________________________________________________________________\n",
      "conv2d_13 (Conv2D)              (None, 32, 32, 64)   73792       concatenate_2[0][0]              \n",
      "__________________________________________________________________________________________________\n",
      "dropout_7 (Dropout)             (None, 32, 32, 64)   0           conv2d_13[0][0]                  \n",
      "__________________________________________________________________________________________________\n",
      "conv2d_14 (Conv2D)              (None, 32, 32, 64)   36928       dropout_7[0][0]                  \n",
      "__________________________________________________________________________________________________\n",
      "conv2d_transpose_3 (Conv2DTrans (None, 64, 64, 32)   8224        conv2d_14[0][0]                  \n",
      "__________________________________________________________________________________________________\n",
      "concatenate_3 (Concatenate)     (None, 64, 64, 64)   0           conv2d_transpose_3[0][0]         \n",
      "                                                                 conv2d_4[0][0]                   \n",
      "__________________________________________________________________________________________________\n",
      "conv2d_15 (Conv2D)              (None, 64, 64, 32)   18464       concatenate_3[0][0]              \n",
      "__________________________________________________________________________________________________\n",
      "dropout_8 (Dropout)             (None, 64, 64, 32)   0           conv2d_15[0][0]                  \n",
      "__________________________________________________________________________________________________\n",
      "conv2d_16 (Conv2D)              (None, 64, 64, 32)   9248        dropout_8[0][0]                  \n",
      "__________________________________________________________________________________________________\n",
      "conv2d_transpose_4 (Conv2DTrans (None, 128, 128, 16) 2064        conv2d_16[0][0]                  \n",
      "__________________________________________________________________________________________________\n",
      "concatenate_4 (Concatenate)     (None, 128, 128, 32) 0           conv2d_transpose_4[0][0]         \n",
      "                                                                 conv2d_2[0][0]                   \n"
     ]
    },
    {
     "name": "stdout",
     "output_type": "stream",
     "text": [
      "__________________________________________________________________________________________________\n",
      "conv2d_17 (Conv2D)              (None, 128, 128, 16) 4624        concatenate_4[0][0]              \n",
      "__________________________________________________________________________________________________\n",
      "dropout_9 (Dropout)             (None, 128, 128, 16) 0           conv2d_17[0][0]                  \n",
      "__________________________________________________________________________________________________\n",
      "conv2d_18 (Conv2D)              (None, 128, 128, 16) 2320        dropout_9[0][0]                  \n",
      "__________________________________________________________________________________________________\n",
      "conv2d_19 (Conv2D)              (None, 128, 128, 1)  17          conv2d_18[0][0]                  \n",
      "==================================================================================================\n",
      "Total params: 1,941,105\n",
      "Trainable params: 1,941,105\n",
      "Non-trainable params: 0\n",
      "__________________________________________________________________________________________________\n"
     ]
    }
   ],
   "source": [
    "# Build U-Net model\n",
    "inputs = Input((IMG_HEIGHT, IMG_WIDTH, IMG_CHANNELS))\n",
    "s = Lambda(lambda x: x / 255) (inputs)\n",
    "\n",
    "c1 = Conv2D(16, (3, 3), activation='elu', kernel_initializer='he_normal', padding='same') (s)\n",
    "c1 = Dropout(0.1) (c1)\n",
    "c1 = Conv2D(16, (3, 3), activation='elu', kernel_initializer='he_normal', padding='same') (c1)\n",
    "p1 = MaxPooling2D((2, 2)) (c1)\n",
    "\n",
    "c2 = Conv2D(32, (3, 3), activation='elu', kernel_initializer='he_normal', padding='same') (p1)\n",
    "c2 = Dropout(0.1) (c2)\n",
    "c2 = Conv2D(32, (3, 3), activation='elu', kernel_initializer='he_normal', padding='same') (c2)\n",
    "p2 = MaxPooling2D((2, 2)) (c2)\n",
    "\n",
    "c3 = Conv2D(64, (3, 3), activation='elu', kernel_initializer='he_normal', padding='same') (p2)\n",
    "c3 = Dropout(0.2) (c3)\n",
    "c3 = Conv2D(64, (3, 3), activation='elu', kernel_initializer='he_normal', padding='same') (c3)\n",
    "p3 = MaxPooling2D((2, 2)) (c3)\n",
    "\n",
    "c4 = Conv2D(128, (3, 3), activation='elu', kernel_initializer='he_normal', padding='same') (p3)\n",
    "c4 = Dropout(0.2) (c4)\n",
    "c4 = Conv2D(128, (3, 3), activation='elu', kernel_initializer='he_normal', padding='same') (c4)\n",
    "p4 = MaxPooling2D(pool_size=(2, 2)) (c4)\n",
    "\n",
    "c5 = Conv2D(256, (3, 3), activation='elu', kernel_initializer='he_normal', padding='same') (p4)\n",
    "c5 = Dropout(0.3) (c5)\n",
    "c5 = Conv2D(256, (3, 3), activation='elu', kernel_initializer='he_normal', padding='same') (c5)\n",
    "\n",
    "u6 = Conv2DTranspose(128, (2, 2), strides=(2, 2), padding='same') (c5)\n",
    "u6 = concatenate([u6, c4])\n",
    "c6 = Conv2D(128, (3, 3), activation='elu', kernel_initializer='he_normal', padding='same') (u6)\n",
    "c6 = Dropout(0.2) (c6)\n",
    "c6 = Conv2D(128, (3, 3), activation='elu', kernel_initializer='he_normal', padding='same') (c6)\n",
    "\n",
    "u7 = Conv2DTranspose(64, (2, 2), strides=(2, 2), padding='same') (c6)\n",
    "u7 = concatenate([u7, c3])\n",
    "c7 = Conv2D(64, (3, 3), activation='elu', kernel_initializer='he_normal', padding='same') (u7)\n",
    "c7 = Dropout(0.2) (c7)\n",
    "c7 = Conv2D(64, (3, 3), activation='elu', kernel_initializer='he_normal', padding='same') (c7)\n",
    "\n",
    "u8 = Conv2DTranspose(32, (2, 2), strides=(2, 2), padding='same') (c7)\n",
    "u8 = concatenate([u8, c2])\n",
    "c8 = Conv2D(32, (3, 3), activation='elu', kernel_initializer='he_normal', padding='same') (u8)\n",
    "c8 = Dropout(0.1) (c8)\n",
    "c8 = Conv2D(32, (3, 3), activation='elu', kernel_initializer='he_normal', padding='same') (c8)\n",
    "\n",
    "u9 = Conv2DTranspose(16, (2, 2), strides=(2, 2), padding='same') (c8)\n",
    "u9 = concatenate([u9, c1], axis=3)\n",
    "c9 = Conv2D(16, (3, 3), activation='elu', kernel_initializer='he_normal', padding='same') (u9)\n",
    "c9 = Dropout(0.1) (c9)\n",
    "c9 = Conv2D(16, (3, 3), activation='elu', kernel_initializer='he_normal', padding='same') (c9)\n",
    "\n",
    "outputs = Conv2D(1, (1, 1), activation='sigmoid') (c9)\n",
    "\n",
    "model = Model(inputs=[inputs], outputs=[outputs])\n",
    "model.compile(optimizer='adam', loss='binary_crossentropy', metrics=[mean_iou])\n",
    "model.summary()"
   ]
  },
  {
   "cell_type": "markdown",
   "metadata": {
    "_cell_guid": "72330944-6ce7-4070-b276-c3c4b20c4fe5",
    "_uuid": "92350b6e18cc50f3fa7b6e9a02d39fcbff8238f7"
   },
   "source": [
    "*Update: Changed to ELU units, added dropout.*\n",
    "\n",
    "Next we fit the model on the training data, using a validation split of 0.1. We use a small batch size because we have so little data. I recommend using checkpointing and early stopping when training your model. I won't do it here to make things a bit more reproducible (although it's very likely that your results will be different anyway). I'll just train for 10 epochs, which takes around 10 minutes in the Kaggle kernel with the current parameters. \n",
    "\n",
    "*Update: Added early stopping and checkpointing and increased to 30 epochs.*"
   ]
  },
  {
   "cell_type": "code",
   "execution_count": 9,
   "metadata": {
    "_cell_guid": "9415b1c4-aa69-41b9-a1e3-d6053dbd4f64",
    "_uuid": "c060db22daa2abf12b28240cd81bbcbf1ce1bf87"
   },
   "outputs": [
    {
     "name": "stdout",
     "output_type": "stream",
     "text": [
      "Train on 603 samples, validate on 67 samples\n",
      "Epoch 1/50\n",
      "603/603 [==============================] - ETA: 1:53 - loss: 0.7069 - mean_iou: 0.0000e+ - ETA: 56s - loss: 0.6532 - mean_iou: 0.2085     - ETA: 37s - loss: 0.6070 - mean_iou: 0.282 - ETA: 28s - loss: 0.6042 - mean_iou: 0.320 - ETA: 22s - loss: 0.5849 - mean_iou: 0.341 - ETA: 18s - loss: 0.5719 - mean_iou: 0.355 - ETA: 15s - loss: 0.5461 - mean_iou: 0.365 - ETA: 13s - loss: 0.5412 - mean_iou: 0.373 - ETA: 11s - loss: 0.5392 - mean_iou: 0.378 - ETA: 10s - loss: 0.5267 - mean_iou: 0.383 - ETA: 9s - loss: 0.5215 - mean_iou: 0.386 - ETA: 8s - loss: 0.5138 - mean_iou: 0.38 - ETA: 7s - loss: 0.5025 - mean_iou: 0.39 - ETA: 6s - loss: 0.4924 - mean_iou: 0.39 - ETA: 6s - loss: 0.4924 - mean_iou: 0.39 - ETA: 5s - loss: 0.4892 - mean_iou: 0.39 - ETA: 5s - loss: 0.4816 - mean_iou: 0.39 - ETA: 4s - loss: 0.4734 - mean_iou: 0.40 - ETA: 4s - loss: 0.4665 - mean_iou: 0.40 - ETA: 4s - loss: 0.4623 - mean_iou: 0.40 - ETA: 3s - loss: 0.4578 - mean_iou: 0.40 - ETA: 3s - loss: 0.4503 - mean_iou: 0.40 - ETA: 3s - loss: 0.4447 - mean_iou: 0.40 - ETA: 2s - loss: 0.4376 - mean_iou: 0.40 - ETA: 2s - loss: 0.4299 - mean_iou: 0.40 - ETA: 2s - loss: 0.4256 - mean_iou: 0.40 - ETA: 2s - loss: 0.4193 - mean_iou: 0.40 - ETA: 1s - loss: 0.4162 - mean_iou: 0.40 - ETA: 1s - loss: 0.4114 - mean_iou: 0.41 - ETA: 1s - loss: 0.4057 - mean_iou: 0.41 - ETA: 1s - loss: 0.4039 - mean_iou: 0.41 - ETA: 0s - loss: 0.3997 - mean_iou: 0.41 - ETA: 0s - loss: 0.3938 - mean_iou: 0.41 - ETA: 0s - loss: 0.3881 - mean_iou: 0.41 - ETA: 0s - loss: 0.3827 - mean_iou: 0.41 - ETA: 0s - loss: 0.4852 - mean_iou: 0.41 - ETA: 0s - loss: 0.4801 - mean_iou: 0.41 - 7s 11ms/step - loss: 0.4766 - mean_iou: 0.4200 - val_loss: 0.2499 - val_mean_iou: 0.4725\n",
      "\n",
      "Epoch 00001: val_loss improved from inf to 0.24991, saving model to model-dsbowl2018-1.h5\n",
      "Epoch 2/50\n",
      "603/603 [==============================] - ETA: 3s - loss: 0.1941 - mean_iou: 0.47 - ETA: 3s - loss: 0.2108 - mean_iou: 0.47 - ETA: 3s - loss: 0.2154 - mean_iou: 0.47 - ETA: 2s - loss: 0.2472 - mean_iou: 0.48 - ETA: 2s - loss: 0.2503 - mean_iou: 0.48 - ETA: 2s - loss: 0.2499 - mean_iou: 0.48 - ETA: 2s - loss: 0.2530 - mean_iou: 0.48 - ETA: 2s - loss: 0.2539 - mean_iou: 0.48 - ETA: 2s - loss: 0.2535 - mean_iou: 0.48 - ETA: 2s - loss: 0.2462 - mean_iou: 0.48 - ETA: 2s - loss: 0.2449 - mean_iou: 0.48 - ETA: 2s - loss: 0.2388 - mean_iou: 0.48 - ETA: 2s - loss: 0.2364 - mean_iou: 0.48 - ETA: 1s - loss: 0.2389 - mean_iou: 0.48 - ETA: 1s - loss: 0.2355 - mean_iou: 0.48 - ETA: 1s - loss: 0.2346 - mean_iou: 0.48 - ETA: 1s - loss: 0.2330 - mean_iou: 0.48 - ETA: 1s - loss: 0.2302 - mean_iou: 0.48 - ETA: 1s - loss: 0.2289 - mean_iou: 0.48 - ETA: 1s - loss: 0.2310 - mean_iou: 0.48 - ETA: 1s - loss: 0.2285 - mean_iou: 0.48 - ETA: 1s - loss: 0.2270 - mean_iou: 0.48 - ETA: 1s - loss: 0.2256 - mean_iou: 0.48 - ETA: 1s - loss: 0.2266 - mean_iou: 0.49 - ETA: 1s - loss: 0.2249 - mean_iou: 0.49 - ETA: 0s - loss: 0.2230 - mean_iou: 0.49 - ETA: 0s - loss: 0.2228 - mean_iou: 0.49 - ETA: 0s - loss: 0.2217 - mean_iou: 0.49 - ETA: 0s - loss: 0.2185 - mean_iou: 0.49 - ETA: 0s - loss: 0.2172 - mean_iou: 0.49 - ETA: 0s - loss: 0.2156 - mean_iou: 0.49 - ETA: 0s - loss: 0.2155 - mean_iou: 0.49 - ETA: 0s - loss: 0.2152 - mean_iou: 0.49 - ETA: 0s - loss: 0.2149 - mean_iou: 0.49 - ETA: 0s - loss: 0.2139 - mean_iou: 0.49 - ETA: 0s - loss: 0.2139 - mean_iou: 0.49 - ETA: 0s - loss: 0.2134 - mean_iou: 0.49 - 3s 5ms/step - loss: 0.2126 - mean_iou: 0.5001 - val_loss: 0.1662 - val_mean_iou: 0.5316\n",
      "\n",
      "Epoch 00002: val_loss improved from 0.24991 to 0.16618, saving model to model-dsbowl2018-1.h5\n",
      "Epoch 3/50\n",
      "603/603 [==============================] - ETA: 3s - loss: 0.1721 - mean_iou: 0.53 - ETA: 3s - loss: 0.1835 - mean_iou: 0.53 - ETA: 2s - loss: 0.1711 - mean_iou: 0.53 - ETA: 2s - loss: 0.1738 - mean_iou: 0.53 - ETA: 2s - loss: 0.1823 - mean_iou: 0.53 - ETA: 2s - loss: 0.1869 - mean_iou: 0.53 - ETA: 2s - loss: 0.1806 - mean_iou: 0.54 - ETA: 2s - loss: 0.1891 - mean_iou: 0.54 - ETA: 2s - loss: 0.1884 - mean_iou: 0.54 - ETA: 2s - loss: 0.1899 - mean_iou: 0.54 - ETA: 2s - loss: 0.1850 - mean_iou: 0.54 - ETA: 2s - loss: 0.1826 - mean_iou: 0.54 - ETA: 2s - loss: 0.1807 - mean_iou: 0.54 - ETA: 1s - loss: 0.1806 - mean_iou: 0.54 - ETA: 1s - loss: 0.1787 - mean_iou: 0.54 - ETA: 1s - loss: 0.1775 - mean_iou: 0.54 - ETA: 1s - loss: 0.1809 - mean_iou: 0.54 - ETA: 1s - loss: 0.1785 - mean_iou: 0.54 - ETA: 1s - loss: 0.1778 - mean_iou: 0.54 - ETA: 1s - loss: 0.1761 - mean_iou: 0.54 - ETA: 1s - loss: 0.1770 - mean_iou: 0.54 - ETA: 1s - loss: 0.1786 - mean_iou: 0.55 - ETA: 1s - loss: 0.1805 - mean_iou: 0.55 - ETA: 1s - loss: 0.1814 - mean_iou: 0.55 - ETA: 1s - loss: 0.1798 - mean_iou: 0.55 - ETA: 0s - loss: 0.1787 - mean_iou: 0.55 - ETA: 0s - loss: 0.1785 - mean_iou: 0.55 - ETA: 0s - loss: 0.1765 - mean_iou: 0.55 - ETA: 0s - loss: 0.1754 - mean_iou: 0.55 - ETA: 0s - loss: 0.1762 - mean_iou: 0.55 - ETA: 0s - loss: 0.1758 - mean_iou: 0.55 - ETA: 0s - loss: 0.1745 - mean_iou: 0.55 - ETA: 0s - loss: 0.1736 - mean_iou: 0.55 - ETA: 0s - loss: 0.1736 - mean_iou: 0.55 - ETA: 0s - loss: 0.1727 - mean_iou: 0.55 - ETA: 0s - loss: 0.1716 - mean_iou: 0.55 - ETA: 0s - loss: 0.1711 - mean_iou: 0.55 - 3s 5ms/step - loss: 0.1708 - mean_iou: 0.5591 - val_loss: 0.1497 - val_mean_iou: 0.5813\n",
      "\n",
      "Epoch 00003: val_loss improved from 0.16618 to 0.14972, saving model to model-dsbowl2018-1.h5\n",
      "Epoch 4/50\n",
      "603/603 [==============================] - ETA: 4s - loss: 0.1568 - mean_iou: 0.58 - ETA: 3s - loss: 0.1403 - mean_iou: 0.58 - ETA: 3s - loss: 0.1456 - mean_iou: 0.58 - ETA: 3s - loss: 0.1437 - mean_iou: 0.58 - ETA: 2s - loss: 0.1463 - mean_iou: 0.58 - ETA: 2s - loss: 0.1391 - mean_iou: 0.58 - ETA: 2s - loss: 0.1362 - mean_iou: 0.58 - ETA: 2s - loss: 0.1402 - mean_iou: 0.58 - ETA: 2s - loss: 0.1456 - mean_iou: 0.58 - ETA: 2s - loss: 0.1448 - mean_iou: 0.58 - ETA: 2s - loss: 0.1436 - mean_iou: 0.58 - ETA: 2s - loss: 0.1481 - mean_iou: 0.58 - ETA: 2s - loss: 0.1491 - mean_iou: 0.59 - ETA: 1s - loss: 0.1489 - mean_iou: 0.59 - ETA: 1s - loss: 0.1458 - mean_iou: 0.59 - ETA: 1s - loss: 0.1470 - mean_iou: 0.59 - ETA: 1s - loss: 0.1487 - mean_iou: 0.59 - ETA: 1s - loss: 0.1460 - mean_iou: 0.59 - ETA: 1s - loss: 0.1439 - mean_iou: 0.59 - ETA: 1s - loss: 0.1452 - mean_iou: 0.59 - ETA: 1s - loss: 0.1449 - mean_iou: 0.59 - ETA: 1s - loss: 0.1428 - mean_iou: 0.59 - ETA: 1s - loss: 0.1423 - mean_iou: 0.59 - ETA: 1s - loss: 0.1411 - mean_iou: 0.59 - ETA: 1s - loss: 0.1385 - mean_iou: 0.59 - ETA: 0s - loss: 0.1391 - mean_iou: 0.59 - ETA: 0s - loss: 0.1422 - mean_iou: 0.59 - ETA: 0s - loss: 0.1423 - mean_iou: 0.59 - ETA: 0s - loss: 0.1427 - mean_iou: 0.59 - ETA: 0s - loss: 0.1422 - mean_iou: 0.59 - ETA: 0s - loss: 0.1412 - mean_iou: 0.59 - ETA: 0s - loss: 0.1417 - mean_iou: 0.59 - ETA: 0s - loss: 0.1413 - mean_iou: 0.59 - ETA: 0s - loss: 0.1406 - mean_iou: 0.60 - ETA: 0s - loss: 0.1401 - mean_iou: 0.60 - ETA: 0s - loss: 0.1415 - mean_iou: 0.60 - ETA: 0s - loss: 0.1412 - mean_iou: 0.60 - 3s 5ms/step - loss: 0.1408 - mean_iou: 0.6016 - val_loss: 0.1314 - val_mean_iou: 0.6191\n",
      "\n",
      "Epoch 00004: val_loss improved from 0.14972 to 0.13140, saving model to model-dsbowl2018-1.h5\n",
      "Epoch 5/50\n"
     ]
    },
    {
     "name": "stdout",
     "output_type": "stream",
     "text": [
      "603/603 [==============================] - ETA: 3s - loss: 0.1530 - mean_iou: 0.62 - ETA: 2s - loss: 0.1414 - mean_iou: 0.62 - ETA: 2s - loss: 0.1284 - mean_iou: 0.62 - ETA: 2s - loss: 0.1285 - mean_iou: 0.62 - ETA: 2s - loss: 0.1292 - mean_iou: 0.62 - ETA: 2s - loss: 0.1247 - mean_iou: 0.62 - ETA: 2s - loss: 0.1228 - mean_iou: 0.62 - ETA: 2s - loss: 0.1350 - mean_iou: 0.62 - ETA: 2s - loss: 0.1422 - mean_iou: 0.62 - ETA: 2s - loss: 0.1365 - mean_iou: 0.62 - ETA: 2s - loss: 0.1368 - mean_iou: 0.62 - ETA: 2s - loss: 0.1332 - mean_iou: 0.62 - ETA: 1s - loss: 0.1342 - mean_iou: 0.62 - ETA: 1s - loss: 0.1390 - mean_iou: 0.62 - ETA: 1s - loss: 0.1401 - mean_iou: 0.62 - ETA: 1s - loss: 0.1366 - mean_iou: 0.62 - ETA: 1s - loss: 0.1355 - mean_iou: 0.62 - ETA: 1s - loss: 0.1343 - mean_iou: 0.62 - ETA: 1s - loss: 0.1342 - mean_iou: 0.62 - ETA: 1s - loss: 0.1382 - mean_iou: 0.62 - ETA: 1s - loss: 0.1363 - mean_iou: 0.62 - ETA: 1s - loss: 0.1347 - mean_iou: 0.62 - ETA: 1s - loss: 0.1348 - mean_iou: 0.62 - ETA: 1s - loss: 0.1356 - mean_iou: 0.62 - ETA: 1s - loss: 0.1365 - mean_iou: 0.63 - ETA: 0s - loss: 0.1346 - mean_iou: 0.63 - ETA: 0s - loss: 0.1337 - mean_iou: 0.63 - ETA: 0s - loss: 0.1339 - mean_iou: 0.63 - ETA: 0s - loss: 0.1357 - mean_iou: 0.63 - ETA: 0s - loss: 0.1374 - mean_iou: 0.63 - ETA: 0s - loss: 0.1388 - mean_iou: 0.63 - ETA: 0s - loss: 0.1372 - mean_iou: 0.63 - ETA: 0s - loss: 0.1397 - mean_iou: 0.63 - ETA: 0s - loss: 0.1403 - mean_iou: 0.63 - ETA: 0s - loss: 0.1399 - mean_iou: 0.63 - ETA: 0s - loss: 0.1400 - mean_iou: 0.63 - ETA: 0s - loss: 0.1388 - mean_iou: 0.63 - 3s 5ms/step - loss: 0.1390 - mean_iou: 0.6344 - val_loss: 0.1339 - val_mean_iou: 0.6466\n",
      "\n",
      "Epoch 00005: val_loss did not improve\n",
      "Epoch 6/50\n",
      "603/603 [==============================] - ETA: 3s - loss: 0.1225 - mean_iou: 0.64 - ETA: 3s - loss: 0.1270 - mean_iou: 0.64 - ETA: 3s - loss: 0.1230 - mean_iou: 0.64 - ETA: 2s - loss: 0.1302 - mean_iou: 0.64 - ETA: 2s - loss: 0.1330 - mean_iou: 0.64 - ETA: 2s - loss: 0.1364 - mean_iou: 0.64 - ETA: 2s - loss: 0.1427 - mean_iou: 0.64 - ETA: 2s - loss: 0.1402 - mean_iou: 0.64 - ETA: 2s - loss: 0.1414 - mean_iou: 0.64 - ETA: 2s - loss: 0.1379 - mean_iou: 0.64 - ETA: 2s - loss: 0.1331 - mean_iou: 0.65 - ETA: 2s - loss: 0.1325 - mean_iou: 0.65 - ETA: 2s - loss: 0.1370 - mean_iou: 0.65 - ETA: 1s - loss: 0.1377 - mean_iou: 0.65 - ETA: 1s - loss: 0.1344 - mean_iou: 0.65 - ETA: 1s - loss: 0.1357 - mean_iou: 0.65 - ETA: 1s - loss: 0.1371 - mean_iou: 0.65 - ETA: 1s - loss: 0.1361 - mean_iou: 0.65 - ETA: 1s - loss: 0.1340 - mean_iou: 0.65 - ETA: 1s - loss: 0.1319 - mean_iou: 0.65 - ETA: 1s - loss: 0.1313 - mean_iou: 0.65 - ETA: 1s - loss: 0.1283 - mean_iou: 0.65 - ETA: 1s - loss: 0.1290 - mean_iou: 0.65 - ETA: 1s - loss: 0.1277 - mean_iou: 0.65 - ETA: 1s - loss: 0.1267 - mean_iou: 0.65 - ETA: 0s - loss: 0.1272 - mean_iou: 0.65 - ETA: 0s - loss: 0.1266 - mean_iou: 0.65 - ETA: 0s - loss: 0.1254 - mean_iou: 0.65 - ETA: 0s - loss: 0.1260 - mean_iou: 0.65 - ETA: 0s - loss: 0.1247 - mean_iou: 0.65 - ETA: 0s - loss: 0.1239 - mean_iou: 0.65 - ETA: 0s - loss: 0.1229 - mean_iou: 0.65 - ETA: 0s - loss: 0.1221 - mean_iou: 0.65 - ETA: 0s - loss: 0.1223 - mean_iou: 0.65 - ETA: 0s - loss: 0.1225 - mean_iou: 0.65 - ETA: 0s - loss: 0.1230 - mean_iou: 0.65 - ETA: 0s - loss: 0.1227 - mean_iou: 0.65 - 3s 5ms/step - loss: 0.1215 - mean_iou: 0.6568 - val_loss: 0.1182 - val_mean_iou: 0.6675\n",
      "\n",
      "Epoch 00006: val_loss improved from 0.13140 to 0.11821, saving model to model-dsbowl2018-1.h5\n",
      "Epoch 7/50\n",
      "603/603 [==============================] - ETA: 3s - loss: 0.1151 - mean_iou: 0.66 - ETA: 3s - loss: 0.1116 - mean_iou: 0.66 - ETA: 2s - loss: 0.1176 - mean_iou: 0.66 - ETA: 2s - loss: 0.1213 - mean_iou: 0.66 - ETA: 2s - loss: 0.1206 - mean_iou: 0.66 - ETA: 2s - loss: 0.1221 - mean_iou: 0.67 - ETA: 2s - loss: 0.1196 - mean_iou: 0.67 - ETA: 2s - loss: 0.1158 - mean_iou: 0.67 - ETA: 2s - loss: 0.1169 - mean_iou: 0.67 - ETA: 2s - loss: 0.1178 - mean_iou: 0.67 - ETA: 2s - loss: 0.1189 - mean_iou: 0.67 - ETA: 2s - loss: 0.1192 - mean_iou: 0.67 - ETA: 2s - loss: 0.1190 - mean_iou: 0.67 - ETA: 1s - loss: 0.1183 - mean_iou: 0.67 - ETA: 1s - loss: 0.1188 - mean_iou: 0.67 - ETA: 1s - loss: 0.1181 - mean_iou: 0.67 - ETA: 1s - loss: 0.1175 - mean_iou: 0.67 - ETA: 1s - loss: 0.1152 - mean_iou: 0.67 - ETA: 1s - loss: 0.1149 - mean_iou: 0.67 - ETA: 1s - loss: 0.1176 - mean_iou: 0.67 - ETA: 1s - loss: 0.1155 - mean_iou: 0.67 - ETA: 1s - loss: 0.1160 - mean_iou: 0.67 - ETA: 1s - loss: 0.1160 - mean_iou: 0.67 - ETA: 1s - loss: 0.1157 - mean_iou: 0.67 - ETA: 1s - loss: 0.1178 - mean_iou: 0.67 - ETA: 0s - loss: 0.1185 - mean_iou: 0.67 - ETA: 0s - loss: 0.1197 - mean_iou: 0.67 - ETA: 0s - loss: 0.1185 - mean_iou: 0.67 - ETA: 0s - loss: 0.1184 - mean_iou: 0.67 - ETA: 0s - loss: 0.1204 - mean_iou: 0.67 - ETA: 0s - loss: 0.1204 - mean_iou: 0.67 - ETA: 0s - loss: 0.1192 - mean_iou: 0.67 - ETA: 0s - loss: 0.1182 - mean_iou: 0.67 - ETA: 0s - loss: 0.1190 - mean_iou: 0.67 - ETA: 0s - loss: 0.1198 - mean_iou: 0.67 - ETA: 0s - loss: 0.1191 - mean_iou: 0.67 - ETA: 0s - loss: 0.1193 - mean_iou: 0.67 - 3s 5ms/step - loss: 0.1182 - mean_iou: 0.6771 - val_loss: 0.1352 - val_mean_iou: 0.6851\n",
      "\n",
      "Epoch 00007: val_loss did not improve\n",
      "Epoch 8/50\n",
      "603/603 [==============================] - ETA: 2s - loss: 0.1888 - mean_iou: 0.68 - ETA: 2s - loss: 0.1663 - mean_iou: 0.68 - ETA: 2s - loss: 0.1495 - mean_iou: 0.68 - ETA: 2s - loss: 0.1464 - mean_iou: 0.68 - ETA: 2s - loss: 0.1462 - mean_iou: 0.68 - ETA: 2s - loss: 0.1357 - mean_iou: 0.68 - ETA: 2s - loss: 0.1373 - mean_iou: 0.68 - ETA: 2s - loss: 0.1312 - mean_iou: 0.68 - ETA: 2s - loss: 0.1309 - mean_iou: 0.68 - ETA: 2s - loss: 0.1309 - mean_iou: 0.68 - ETA: 2s - loss: 0.1303 - mean_iou: 0.68 - ETA: 2s - loss: 0.1274 - mean_iou: 0.68 - ETA: 2s - loss: 0.1264 - mean_iou: 0.68 - ETA: 1s - loss: 0.1253 - mean_iou: 0.68 - ETA: 1s - loss: 0.1260 - mean_iou: 0.68 - ETA: 1s - loss: 0.1260 - mean_iou: 0.68 - ETA: 1s - loss: 0.1255 - mean_iou: 0.68 - ETA: 1s - loss: 0.1260 - mean_iou: 0.68 - ETA: 1s - loss: 0.1270 - mean_iou: 0.68 - ETA: 1s - loss: 0.1274 - mean_iou: 0.68 - ETA: 1s - loss: 0.1272 - mean_iou: 0.68 - ETA: 1s - loss: 0.1271 - mean_iou: 0.68 - ETA: 1s - loss: 0.1270 - mean_iou: 0.68 - ETA: 1s - loss: 0.1259 - mean_iou: 0.68 - ETA: 1s - loss: 0.1243 - mean_iou: 0.68 - ETA: 0s - loss: 0.1244 - mean_iou: 0.69 - ETA: 0s - loss: 0.1239 - mean_iou: 0.69 - ETA: 0s - loss: 0.1217 - mean_iou: 0.69 - ETA: 0s - loss: 0.1210 - mean_iou: 0.69 - ETA: 0s - loss: 0.1204 - mean_iou: 0.69 - ETA: 0s - loss: 0.1188 - mean_iou: 0.69 - ETA: 0s - loss: 0.1195 - mean_iou: 0.69 - ETA: 0s - loss: 0.1186 - mean_iou: 0.69 - ETA: 0s - loss: 0.1186 - mean_iou: 0.69 - ETA: 0s - loss: 0.1178 - mean_iou: 0.69 - ETA: 0s - loss: 0.1180 - mean_iou: 0.69 - ETA: 0s - loss: 0.1172 - mean_iou: 0.69 - 3s 5ms/step - loss: 0.1172 - mean_iou: 0.6919 - val_loss: 0.1001 - val_mean_iou: 0.6984\n",
      "\n",
      "Epoch 00008: val_loss improved from 0.11821 to 0.10014, saving model to model-dsbowl2018-1.h5\n",
      "Epoch 9/50\n"
     ]
    },
    {
     "name": "stdout",
     "output_type": "stream",
     "text": [
      "603/603 [==============================] - ETA: 3s - loss: 0.1231 - mean_iou: 0.69 - ETA: 2s - loss: 0.1301 - mean_iou: 0.69 - ETA: 2s - loss: 0.1162 - mean_iou: 0.69 - ETA: 2s - loss: 0.1131 - mean_iou: 0.69 - ETA: 2s - loss: 0.1062 - mean_iou: 0.69 - ETA: 2s - loss: 0.1040 - mean_iou: 0.70 - ETA: 2s - loss: 0.1007 - mean_iou: 0.70 - ETA: 2s - loss: 0.1033 - mean_iou: 0.70 - ETA: 2s - loss: 0.0994 - mean_iou: 0.70 - ETA: 2s - loss: 0.0974 - mean_iou: 0.70 - ETA: 2s - loss: 0.0968 - mean_iou: 0.70 - ETA: 2s - loss: 0.0976 - mean_iou: 0.70 - ETA: 2s - loss: 0.0977 - mean_iou: 0.70 - ETA: 1s - loss: 0.0985 - mean_iou: 0.70 - ETA: 1s - loss: 0.1015 - mean_iou: 0.70 - ETA: 1s - loss: 0.0996 - mean_iou: 0.70 - ETA: 1s - loss: 0.0981 - mean_iou: 0.70 - ETA: 1s - loss: 0.0988 - mean_iou: 0.70 - ETA: 1s - loss: 0.1037 - mean_iou: 0.70 - ETA: 1s - loss: 0.1023 - mean_iou: 0.70 - ETA: 1s - loss: 0.1011 - mean_iou: 0.70 - ETA: 1s - loss: 0.1006 - mean_iou: 0.70 - ETA: 1s - loss: 0.1006 - mean_iou: 0.70 - ETA: 1s - loss: 0.1024 - mean_iou: 0.70 - ETA: 1s - loss: 0.1030 - mean_iou: 0.70 - ETA: 0s - loss: 0.1025 - mean_iou: 0.70 - ETA: 0s - loss: 0.1012 - mean_iou: 0.70 - ETA: 0s - loss: 0.1013 - mean_iou: 0.70 - ETA: 0s - loss: 0.1018 - mean_iou: 0.70 - ETA: 0s - loss: 0.1009 - mean_iou: 0.70 - ETA: 0s - loss: 0.1012 - mean_iou: 0.70 - ETA: 0s - loss: 0.1010 - mean_iou: 0.70 - ETA: 0s - loss: 0.1008 - mean_iou: 0.70 - ETA: 0s - loss: 0.1007 - mean_iou: 0.70 - ETA: 0s - loss: 0.1014 - mean_iou: 0.70 - ETA: 0s - loss: 0.1017 - mean_iou: 0.70 - ETA: 0s - loss: 0.1037 - mean_iou: 0.70 - 3s 5ms/step - loss: 0.1049 - mean_iou: 0.7050 - val_loss: 0.0981 - val_mean_iou: 0.7108\n",
      "\n",
      "Epoch 00009: val_loss improved from 0.10014 to 0.09809, saving model to model-dsbowl2018-1.h5\n",
      "Epoch 10/50\n",
      "603/603 [==============================] - ETA: 2s - loss: 0.1347 - mean_iou: 0.71 - ETA: 2s - loss: 0.1474 - mean_iou: 0.71 - ETA: 2s - loss: 0.1393 - mean_iou: 0.71 - ETA: 2s - loss: 0.1312 - mean_iou: 0.71 - ETA: 2s - loss: 0.1272 - mean_iou: 0.71 - ETA: 2s - loss: 0.1253 - mean_iou: 0.71 - ETA: 2s - loss: 0.1248 - mean_iou: 0.71 - ETA: 2s - loss: 0.1201 - mean_iou: 0.71 - ETA: 2s - loss: 0.1198 - mean_iou: 0.71 - ETA: 2s - loss: 0.1170 - mean_iou: 0.71 - ETA: 2s - loss: 0.1176 - mean_iou: 0.71 - ETA: 2s - loss: 0.1186 - mean_iou: 0.71 - ETA: 2s - loss: 0.1145 - mean_iou: 0.71 - ETA: 1s - loss: 0.1126 - mean_iou: 0.71 - ETA: 1s - loss: 0.1109 - mean_iou: 0.71 - ETA: 1s - loss: 0.1095 - mean_iou: 0.71 - ETA: 1s - loss: 0.1098 - mean_iou: 0.71 - ETA: 1s - loss: 0.1108 - mean_iou: 0.71 - ETA: 1s - loss: 0.1101 - mean_iou: 0.71 - ETA: 1s - loss: 0.1079 - mean_iou: 0.71 - ETA: 1s - loss: 0.1063 - mean_iou: 0.71 - ETA: 1s - loss: 0.1059 - mean_iou: 0.71 - ETA: 1s - loss: 0.1052 - mean_iou: 0.71 - ETA: 1s - loss: 0.1079 - mean_iou: 0.71 - ETA: 1s - loss: 0.1082 - mean_iou: 0.71 - ETA: 0s - loss: 0.1082 - mean_iou: 0.71 - ETA: 0s - loss: 0.1081 - mean_iou: 0.71 - ETA: 0s - loss: 0.1097 - mean_iou: 0.71 - ETA: 0s - loss: 0.1100 - mean_iou: 0.71 - ETA: 0s - loss: 0.1086 - mean_iou: 0.71 - ETA: 0s - loss: 0.1084 - mean_iou: 0.71 - ETA: 0s - loss: 0.1093 - mean_iou: 0.71 - ETA: 0s - loss: 0.1086 - mean_iou: 0.71 - ETA: 0s - loss: 0.1075 - mean_iou: 0.71 - ETA: 0s - loss: 0.1065 - mean_iou: 0.71 - ETA: 0s - loss: 0.1061 - mean_iou: 0.71 - ETA: 0s - loss: 0.1047 - mean_iou: 0.71 - 3s 5ms/step - loss: 0.1047 - mean_iou: 0.7163 - val_loss: 0.0912 - val_mean_iou: 0.7213\n",
      "\n",
      "Epoch 00010: val_loss improved from 0.09809 to 0.09117, saving model to model-dsbowl2018-1.h5\n",
      "Epoch 11/50\n",
      "603/603 [==============================] - ETA: 3s - loss: 0.0647 - mean_iou: 0.72 - ETA: 2s - loss: 0.0878 - mean_iou: 0.72 - ETA: 2s - loss: 0.0919 - mean_iou: 0.72 - ETA: 2s - loss: 0.0927 - mean_iou: 0.72 - ETA: 2s - loss: 0.0974 - mean_iou: 0.72 - ETA: 2s - loss: 0.0961 - mean_iou: 0.72 - ETA: 2s - loss: 0.0949 - mean_iou: 0.72 - ETA: 2s - loss: 0.0900 - mean_iou: 0.72 - ETA: 2s - loss: 0.0921 - mean_iou: 0.72 - ETA: 2s - loss: 0.0904 - mean_iou: 0.72 - ETA: 2s - loss: 0.0933 - mean_iou: 0.72 - ETA: 2s - loss: 0.0966 - mean_iou: 0.72 - ETA: 2s - loss: 0.0981 - mean_iou: 0.72 - ETA: 1s - loss: 0.0994 - mean_iou: 0.72 - ETA: 1s - loss: 0.0989 - mean_iou: 0.72 - ETA: 1s - loss: 0.0989 - mean_iou: 0.72 - ETA: 1s - loss: 0.1011 - mean_iou: 0.72 - ETA: 1s - loss: 0.1026 - mean_iou: 0.72 - ETA: 1s - loss: 0.1020 - mean_iou: 0.72 - ETA: 1s - loss: 0.1016 - mean_iou: 0.72 - ETA: 1s - loss: 0.1017 - mean_iou: 0.72 - ETA: 1s - loss: 0.0995 - mean_iou: 0.72 - ETA: 1s - loss: 0.0999 - mean_iou: 0.72 - ETA: 1s - loss: 0.0995 - mean_iou: 0.72 - ETA: 1s - loss: 0.1003 - mean_iou: 0.72 - ETA: 0s - loss: 0.0995 - mean_iou: 0.72 - ETA: 0s - loss: 0.0987 - mean_iou: 0.72 - ETA: 0s - loss: 0.0990 - mean_iou: 0.72 - ETA: 0s - loss: 0.0980 - mean_iou: 0.72 - ETA: 0s - loss: 0.0978 - mean_iou: 0.72 - ETA: 0s - loss: 0.0972 - mean_iou: 0.72 - ETA: 0s - loss: 0.0969 - mean_iou: 0.72 - ETA: 0s - loss: 0.0972 - mean_iou: 0.72 - ETA: 0s - loss: 0.0980 - mean_iou: 0.72 - ETA: 0s - loss: 0.0965 - mean_iou: 0.72 - ETA: 0s - loss: 0.0987 - mean_iou: 0.72 - ETA: 0s - loss: 0.1003 - mean_iou: 0.72 - 3s 5ms/step - loss: 0.1020 - mean_iou: 0.7261 - val_loss: 0.0961 - val_mean_iou: 0.7303\n",
      "\n",
      "Epoch 00011: val_loss did not improve\n",
      "Epoch 12/50\n",
      "603/603 [==============================] - ETA: 3s - loss: 0.0651 - mean_iou: 0.73 - ETA: 2s - loss: 0.0866 - mean_iou: 0.73 - ETA: 2s - loss: 0.0933 - mean_iou: 0.73 - ETA: 2s - loss: 0.0962 - mean_iou: 0.73 - ETA: 2s - loss: 0.0937 - mean_iou: 0.73 - ETA: 2s - loss: 0.0956 - mean_iou: 0.73 - ETA: 2s - loss: 0.0992 - mean_iou: 0.73 - ETA: 2s - loss: 0.0957 - mean_iou: 0.73 - ETA: 2s - loss: 0.0940 - mean_iou: 0.73 - ETA: 2s - loss: 0.0908 - mean_iou: 0.73 - ETA: 2s - loss: 0.0945 - mean_iou: 0.73 - ETA: 2s - loss: 0.0925 - mean_iou: 0.73 - ETA: 1s - loss: 0.0914 - mean_iou: 0.73 - ETA: 1s - loss: 0.0892 - mean_iou: 0.73 - ETA: 1s - loss: 0.0906 - mean_iou: 0.73 - ETA: 1s - loss: 0.0904 - mean_iou: 0.73 - ETA: 1s - loss: 0.0886 - mean_iou: 0.73 - ETA: 1s - loss: 0.0887 - mean_iou: 0.73 - ETA: 1s - loss: 0.0872 - mean_iou: 0.73 - ETA: 1s - loss: 0.0901 - mean_iou: 0.73 - ETA: 1s - loss: 0.0917 - mean_iou: 0.73 - ETA: 1s - loss: 0.0926 - mean_iou: 0.73 - ETA: 1s - loss: 0.0938 - mean_iou: 0.73 - ETA: 1s - loss: 0.0947 - mean_iou: 0.73 - ETA: 1s - loss: 0.0953 - mean_iou: 0.73 - ETA: 0s - loss: 0.0945 - mean_iou: 0.73 - ETA: 0s - loss: 0.0947 - mean_iou: 0.73 - ETA: 0s - loss: 0.0951 - mean_iou: 0.73 - ETA: 0s - loss: 0.0944 - mean_iou: 0.73 - ETA: 0s - loss: 0.0937 - mean_iou: 0.73 - ETA: 0s - loss: 0.0947 - mean_iou: 0.73 - ETA: 0s - loss: 0.0944 - mean_iou: 0.73 - ETA: 0s - loss: 0.0946 - mean_iou: 0.73 - ETA: 0s - loss: 0.0943 - mean_iou: 0.73 - ETA: 0s - loss: 0.0937 - mean_iou: 0.73 - ETA: 0s - loss: 0.0938 - mean_iou: 0.73 - ETA: 0s - loss: 0.0952 - mean_iou: 0.73 - 3s 5ms/step - loss: 0.0957 - mean_iou: 0.7347 - val_loss: 0.0891 - val_mean_iou: 0.7384\n",
      "\n",
      "Epoch 00012: val_loss improved from 0.09117 to 0.08907, saving model to model-dsbowl2018-1.h5\n",
      "Epoch 13/50\n"
     ]
    },
    {
     "name": "stdout",
     "output_type": "stream",
     "text": [
      "603/603 [==============================] - ETA: 3s - loss: 0.0991 - mean_iou: 0.73 - ETA: 2s - loss: 0.1184 - mean_iou: 0.73 - ETA: 2s - loss: 0.1058 - mean_iou: 0.73 - ETA: 2s - loss: 0.0967 - mean_iou: 0.73 - ETA: 2s - loss: 0.0912 - mean_iou: 0.73 - ETA: 2s - loss: 0.0944 - mean_iou: 0.73 - ETA: 2s - loss: 0.0938 - mean_iou: 0.73 - ETA: 2s - loss: 0.0951 - mean_iou: 0.73 - ETA: 2s - loss: 0.0964 - mean_iou: 0.73 - ETA: 2s - loss: 0.0963 - mean_iou: 0.73 - ETA: 2s - loss: 0.0987 - mean_iou: 0.73 - ETA: 2s - loss: 0.0992 - mean_iou: 0.73 - ETA: 2s - loss: 0.1024 - mean_iou: 0.74 - ETA: 1s - loss: 0.1045 - mean_iou: 0.74 - ETA: 1s - loss: 0.1027 - mean_iou: 0.74 - ETA: 1s - loss: 0.0992 - mean_iou: 0.74 - ETA: 1s - loss: 0.0998 - mean_iou: 0.74 - ETA: 1s - loss: 0.0994 - mean_iou: 0.74 - ETA: 1s - loss: 0.0975 - mean_iou: 0.74 - ETA: 1s - loss: 0.0954 - mean_iou: 0.74 - ETA: 1s - loss: 0.0971 - mean_iou: 0.74 - ETA: 1s - loss: 0.0952 - mean_iou: 0.74 - ETA: 1s - loss: 0.0940 - mean_iou: 0.74 - ETA: 1s - loss: 0.0957 - mean_iou: 0.74 - ETA: 1s - loss: 0.0956 - mean_iou: 0.74 - ETA: 0s - loss: 0.0948 - mean_iou: 0.74 - ETA: 0s - loss: 0.0958 - mean_iou: 0.74 - ETA: 0s - loss: 0.0953 - mean_iou: 0.74 - ETA: 0s - loss: 0.0945 - mean_iou: 0.74 - ETA: 0s - loss: 0.0944 - mean_iou: 0.74 - ETA: 0s - loss: 0.0935 - mean_iou: 0.74 - ETA: 0s - loss: 0.0932 - mean_iou: 0.74 - ETA: 0s - loss: 0.0942 - mean_iou: 0.74 - ETA: 0s - loss: 0.0935 - mean_iou: 0.74 - ETA: 0s - loss: 0.0937 - mean_iou: 0.74 - ETA: 0s - loss: 0.0928 - mean_iou: 0.74 - ETA: 0s - loss: 0.0938 - mean_iou: 0.74 - 3s 5ms/step - loss: 0.0937 - mean_iou: 0.7422 - val_loss: 0.0976 - val_mean_iou: 0.7456\n",
      "\n",
      "Epoch 00013: val_loss did not improve\n",
      "Epoch 14/50\n",
      "603/603 [==============================] - ETA: 2s - loss: 0.0746 - mean_iou: 0.74 - ETA: 2s - loss: 0.1059 - mean_iou: 0.74 - ETA: 2s - loss: 0.0922 - mean_iou: 0.74 - ETA: 2s - loss: 0.0890 - mean_iou: 0.74 - ETA: 2s - loss: 0.0816 - mean_iou: 0.74 - ETA: 2s - loss: 0.0836 - mean_iou: 0.74 - ETA: 2s - loss: 0.0802 - mean_iou: 0.74 - ETA: 2s - loss: 0.0847 - mean_iou: 0.74 - ETA: 2s - loss: 0.0891 - mean_iou: 0.74 - ETA: 2s - loss: 0.0869 - mean_iou: 0.74 - ETA: 2s - loss: 0.0874 - mean_iou: 0.74 - ETA: 2s - loss: 0.0871 - mean_iou: 0.74 - ETA: 1s - loss: 0.0911 - mean_iou: 0.74 - ETA: 1s - loss: 0.0914 - mean_iou: 0.74 - ETA: 1s - loss: 0.0899 - mean_iou: 0.74 - ETA: 1s - loss: 0.0907 - mean_iou: 0.74 - ETA: 1s - loss: 0.0910 - mean_iou: 0.74 - ETA: 1s - loss: 0.0887 - mean_iou: 0.74 - ETA: 1s - loss: 0.0874 - mean_iou: 0.74 - ETA: 1s - loss: 0.0873 - mean_iou: 0.74 - ETA: 1s - loss: 0.0863 - mean_iou: 0.74 - ETA: 1s - loss: 0.0855 - mean_iou: 0.74 - ETA: 1s - loss: 0.0871 - mean_iou: 0.74 - ETA: 1s - loss: 0.0891 - mean_iou: 0.74 - ETA: 1s - loss: 0.0882 - mean_iou: 0.74 - ETA: 0s - loss: 0.0874 - mean_iou: 0.74 - ETA: 0s - loss: 0.0880 - mean_iou: 0.74 - ETA: 0s - loss: 0.0873 - mean_iou: 0.74 - ETA: 0s - loss: 0.0877 - mean_iou: 0.74 - ETA: 0s - loss: 0.0876 - mean_iou: 0.74 - ETA: 0s - loss: 0.0871 - mean_iou: 0.74 - ETA: 0s - loss: 0.0882 - mean_iou: 0.74 - ETA: 0s - loss: 0.0887 - mean_iou: 0.74 - ETA: 0s - loss: 0.0888 - mean_iou: 0.74 - ETA: 0s - loss: 0.0882 - mean_iou: 0.74 - ETA: 0s - loss: 0.0891 - mean_iou: 0.74 - ETA: 0s - loss: 0.0890 - mean_iou: 0.74 - 3s 5ms/step - loss: 0.0892 - mean_iou: 0.7488 - val_loss: 0.0974 - val_mean_iou: 0.7522\n",
      "\n",
      "Epoch 00014: val_loss did not improve\n",
      "Epoch 15/50\n",
      "603/603 [==============================] - ETA: 2s - loss: 0.1209 - mean_iou: 0.75 - ETA: 2s - loss: 0.1322 - mean_iou: 0.75 - ETA: 2s - loss: 0.1137 - mean_iou: 0.75 - ETA: 2s - loss: 0.1007 - mean_iou: 0.75 - ETA: 2s - loss: 0.0982 - mean_iou: 0.75 - ETA: 2s - loss: 0.0936 - mean_iou: 0.75 - ETA: 2s - loss: 0.0899 - mean_iou: 0.75 - ETA: 2s - loss: 0.0886 - mean_iou: 0.75 - ETA: 2s - loss: 0.0931 - mean_iou: 0.75 - ETA: 2s - loss: 0.0905 - mean_iou: 0.75 - ETA: 2s - loss: 0.0909 - mean_iou: 0.75 - ETA: 2s - loss: 0.0901 - mean_iou: 0.75 - ETA: 2s - loss: 0.0911 - mean_iou: 0.75 - ETA: 1s - loss: 0.0913 - mean_iou: 0.75 - ETA: 1s - loss: 0.0904 - mean_iou: 0.75 - ETA: 1s - loss: 0.0904 - mean_iou: 0.75 - ETA: 1s - loss: 0.0910 - mean_iou: 0.75 - ETA: 1s - loss: 0.0904 - mean_iou: 0.75 - ETA: 1s - loss: 0.0905 - mean_iou: 0.75 - ETA: 1s - loss: 0.0919 - mean_iou: 0.75 - ETA: 1s - loss: 0.0936 - mean_iou: 0.75 - ETA: 1s - loss: 0.0924 - mean_iou: 0.75 - ETA: 1s - loss: 0.0920 - mean_iou: 0.75 - ETA: 1s - loss: 0.0920 - mean_iou: 0.75 - ETA: 1s - loss: 0.0910 - mean_iou: 0.75 - ETA: 0s - loss: 0.0903 - mean_iou: 0.75 - ETA: 0s - loss: 0.0913 - mean_iou: 0.75 - ETA: 0s - loss: 0.0906 - mean_iou: 0.75 - ETA: 0s - loss: 0.0894 - mean_iou: 0.75 - ETA: 0s - loss: 0.0907 - mean_iou: 0.75 - ETA: 0s - loss: 0.0908 - mean_iou: 0.75 - ETA: 0s - loss: 0.0894 - mean_iou: 0.75 - ETA: 0s - loss: 0.0895 - mean_iou: 0.75 - ETA: 0s - loss: 0.0889 - mean_iou: 0.75 - ETA: 0s - loss: 0.0892 - mean_iou: 0.75 - ETA: 0s - loss: 0.0890 - mean_iou: 0.75 - ETA: 0s - loss: 0.0894 - mean_iou: 0.75 - 3s 5ms/step - loss: 0.0903 - mean_iou: 0.7552 - val_loss: 0.1093 - val_mean_iou: 0.7580\n",
      "\n",
      "Epoch 00015: val_loss did not improve\n",
      "Epoch 16/50\n",
      "603/603 [==============================] - ETA: 2s - loss: 0.0794 - mean_iou: 0.75 - ETA: 2s - loss: 0.0733 - mean_iou: 0.75 - ETA: 2s - loss: 0.0852 - mean_iou: 0.75 - ETA: 2s - loss: 0.0788 - mean_iou: 0.75 - ETA: 2s - loss: 0.0744 - mean_iou: 0.75 - ETA: 2s - loss: 0.0813 - mean_iou: 0.75 - ETA: 2s - loss: 0.0803 - mean_iou: 0.75 - ETA: 2s - loss: 0.0812 - mean_iou: 0.75 - ETA: 2s - loss: 0.0839 - mean_iou: 0.75 - ETA: 2s - loss: 0.0846 - mean_iou: 0.75 - ETA: 2s - loss: 0.0853 - mean_iou: 0.75 - ETA: 2s - loss: 0.0858 - mean_iou: 0.75 - ETA: 1s - loss: 0.0852 - mean_iou: 0.75 - ETA: 1s - loss: 0.0835 - mean_iou: 0.75 - ETA: 1s - loss: 0.0871 - mean_iou: 0.75 - ETA: 1s - loss: 0.0864 - mean_iou: 0.75 - ETA: 1s - loss: 0.0861 - mean_iou: 0.75 - ETA: 1s - loss: 0.0853 - mean_iou: 0.75 - ETA: 1s - loss: 0.0853 - mean_iou: 0.75 - ETA: 1s - loss: 0.0861 - mean_iou: 0.75 - ETA: 1s - loss: 0.0902 - mean_iou: 0.75 - ETA: 1s - loss: 0.0916 - mean_iou: 0.75 - ETA: 1s - loss: 0.0904 - mean_iou: 0.75 - ETA: 1s - loss: 0.0895 - mean_iou: 0.75 - ETA: 1s - loss: 0.0878 - mean_iou: 0.75 - ETA: 0s - loss: 0.0873 - mean_iou: 0.75 - ETA: 0s - loss: 0.0876 - mean_iou: 0.76 - ETA: 0s - loss: 0.0883 - mean_iou: 0.76 - ETA: 0s - loss: 0.0876 - mean_iou: 0.76 - ETA: 0s - loss: 0.0889 - mean_iou: 0.76 - ETA: 0s - loss: 0.0895 - mean_iou: 0.76 - ETA: 0s - loss: 0.0890 - mean_iou: 0.76 - ETA: 0s - loss: 0.0890 - mean_iou: 0.76 - ETA: 0s - loss: 0.0891 - mean_iou: 0.76 - ETA: 0s - loss: 0.0892 - mean_iou: 0.76 - ETA: 0s - loss: 0.0893 - mean_iou: 0.76 - ETA: 0s - loss: 0.0901 - mean_iou: 0.76 - 3s 5ms/step - loss: 0.0901 - mean_iou: 0.7607 - val_loss: 0.1104 - val_mean_iou: 0.7631\n",
      "\n",
      "Epoch 00016: val_loss did not improve\n",
      "Epoch 17/50\n"
     ]
    },
    {
     "name": "stdout",
     "output_type": "stream",
     "text": [
      "603/603 [==============================] - ETA: 2s - loss: 0.1191 - mean_iou: 0.76 - ETA: 2s - loss: 0.0979 - mean_iou: 0.76 - ETA: 2s - loss: 0.0861 - mean_iou: 0.76 - ETA: 2s - loss: 0.0804 - mean_iou: 0.76 - ETA: 2s - loss: 0.0769 - mean_iou: 0.76 - ETA: 2s - loss: 0.0730 - mean_iou: 0.76 - ETA: 2s - loss: 0.0763 - mean_iou: 0.76 - ETA: 2s - loss: 0.0848 - mean_iou: 0.76 - ETA: 2s - loss: 0.0863 - mean_iou: 0.76 - ETA: 2s - loss: 0.0853 - mean_iou: 0.76 - ETA: 2s - loss: 0.0852 - mean_iou: 0.76 - ETA: 2s - loss: 0.0875 - mean_iou: 0.76 - ETA: 1s - loss: 0.0877 - mean_iou: 0.76 - ETA: 1s - loss: 0.0866 - mean_iou: 0.76 - ETA: 1s - loss: 0.0856 - mean_iou: 0.76 - ETA: 1s - loss: 0.0847 - mean_iou: 0.76 - ETA: 1s - loss: 0.0837 - mean_iou: 0.76 - ETA: 1s - loss: 0.0830 - mean_iou: 0.76 - ETA: 1s - loss: 0.0834 - mean_iou: 0.76 - ETA: 1s - loss: 0.0842 - mean_iou: 0.76 - ETA: 1s - loss: 0.0860 - mean_iou: 0.76 - ETA: 1s - loss: 0.0848 - mean_iou: 0.76 - ETA: 1s - loss: 0.0851 - mean_iou: 0.76 - ETA: 1s - loss: 0.0851 - mean_iou: 0.76 - ETA: 1s - loss: 0.0868 - mean_iou: 0.76 - ETA: 0s - loss: 0.0863 - mean_iou: 0.76 - ETA: 0s - loss: 0.0863 - mean_iou: 0.76 - ETA: 0s - loss: 0.0851 - mean_iou: 0.76 - ETA: 0s - loss: 0.0836 - mean_iou: 0.76 - ETA: 0s - loss: 0.0827 - mean_iou: 0.76 - ETA: 0s - loss: 0.0816 - mean_iou: 0.76 - ETA: 0s - loss: 0.0821 - mean_iou: 0.76 - ETA: 0s - loss: 0.0830 - mean_iou: 0.76 - ETA: 0s - loss: 0.0854 - mean_iou: 0.76 - ETA: 0s - loss: 0.0860 - mean_iou: 0.76 - ETA: 0s - loss: 0.0858 - mean_iou: 0.76 - ETA: 0s - loss: 0.0863 - mean_iou: 0.76 - 3s 5ms/step - loss: 0.0862 - mean_iou: 0.7657 - val_loss: 0.0904 - val_mean_iou: 0.7679\n",
      "\n",
      "Epoch 00017: val_loss did not improve\n",
      "Epoch 00017: early stopping\n"
     ]
    }
   ],
   "source": [
    "# Fit model\n",
    "earlystopper = EarlyStopping(patience=5, verbose=1)\n",
    "checkpointer = ModelCheckpoint('model-dsbowl2018-1.h5', verbose=1, save_best_only=True)\n",
    "results = model.fit(X_train, Y_train, validation_split=0.1, batch_size=16, epochs=50, \n",
    "                    callbacks=[earlystopper, checkpointer])"
   ]
  },
  {
   "cell_type": "markdown",
   "metadata": {
    "_cell_guid": "1f381f5b-1b71-4daa-a417-e02f4894540b",
    "_uuid": "bb15226ea617cf91ed8f43179fccb5a15809e5a0"
   },
   "source": [
    "All right, looks good! Loss seems to be a bit erratic, though. I'll leave it to you to improve the model architecture and parameters! \n",
    "\n",
    "# Make predictions\n",
    "\n",
    "Let's make predictions both on the test set, the val set and the train set (as a sanity check). Remember to load the best saved model if you've used early stopping and checkpointing."
   ]
  },
  {
   "cell_type": "code",
   "execution_count": 10,
   "metadata": {
    "_cell_guid": "2daa48d5-ac98-4e18-af3f-a582baaa44f0",
    "_uuid": "f841760b4abca1a25cb750822f88268bd79bf2ce"
   },
   "outputs": [
    {
     "name": "stdout",
     "output_type": "stream",
     "text": [
      "603/603 [==============================] - ETA:  - ETA:  - ETA:  - ETA:  - ETA:  - ETA:  - ETA:  - ETA:  - ETA:  - 1s 2ms/step\n",
      "67/67 [==============================] - ETA:  - 0s 1ms/step\n",
      "65/65 [==============================] - ETA:  - 0s 2ms/step\n"
     ]
    }
   ],
   "source": [
    "# Predict on train, val and test\n",
    "model = load_model('model-dsbowl2018-1.h5', custom_objects={'mean_iou': mean_iou})\n",
    "preds_train = model.predict(X_train[:int(X_train.shape[0]*0.9)], verbose=1)\n",
    "preds_val = model.predict(X_train[int(X_train.shape[0]*0.9):], verbose=1)\n",
    "preds_test = model.predict(X_test, verbose=1)\n",
    "\n",
    "# Threshold predictions\n",
    "preds_train_t = (preds_train > 0.5).astype(np.uint8)\n",
    "preds_val_t = (preds_val > 0.5).astype(np.uint8)\n",
    "preds_test_t = (preds_test > 0.5).astype(np.uint8)\n",
    "\n",
    "# Create list of upsampled test masks\n",
    "preds_test_upsampled = []\n",
    "for i in range(len(preds_test)):\n",
    "    preds_test_upsampled.append(resize(np.squeeze(preds_test[i]), \n",
    "                                       (sizes_test[i][0], sizes_test[i][1]), \n",
    "                                       mode='constant', preserve_range=True))"
   ]
  },
  {
   "cell_type": "code",
   "execution_count": 11,
   "metadata": {
    "_cell_guid": "649248cd-a1fb-4da6-ade2-4bebad44bcab",
    "_uuid": "7e06242a50870e07a080064a4912b761775990fa"
   },
   "outputs": [
    {
     "name": "stderr",
     "output_type": "stream",
     "text": [
      "C:\\Users\\aadim\\Anaconda3\\envs\\tensorflow\\lib\\site-packages\\skimage\\io\\_plugins\\matplotlib_plugin.py:51: FutureWarning: Conversion of the second argument of issubdtype from `float` to `np.floating` is deprecated. In future, it will be treated as `np.float64 == np.dtype(float).type`.\n",
      "  out_of_range_float = (np.issubdtype(image.dtype, np.float) and\n"
     ]
    },
    {
     "data": {
      "image/png": "[encoded data removed]",
      "text/plain": [
       "<matplotlib.figure.Figure at 0x11ae8e89978>"
      ]
     },
     "metadata": {},
     "output_type": "display_data"
    },
    {
     "data": {
      "image/png": "[encoded data removed]",
      "text/plain": [
       "<matplotlib.figure.Figure at 0x11b234fdd30>"
      ]
     },
     "metadata": {},
     "output_type": "display_data"
    },
    {
     "data": {
      "image/png": "[encoded data removed]",
      "text/plain": [
       "<matplotlib.figure.Figure at 0x11b25fc96a0>"
      ]
     },
     "metadata": {},
     "output_type": "display_data"
    }
   ],
   "source": [
    "# Perform a sanity check on some random training samples\n",
    "ix = random.randint(0, len(preds_train_t))\n",
    "imshow(X_train[ix])\n",
    "plt.show()\n",
    "imshow(np.squeeze(Y_train[ix]))\n",
    "plt.show()\n",
    "imshow(np.squeeze(preds_train_t[ix]))\n",
    "plt.show()"
   ]
  },
  {
   "cell_type": "markdown",
   "metadata": {
    "_cell_guid": "af602aea-5e56-42a8-9331-54b4b2650593",
    "_uuid": "5fcee2b9aee2fba5c60d43ad48a14139e9c1318c"
   },
   "source": [
    "The model is at least able to fit to the training data! Certainly a lot of room for improvement even here, but a decent start. How about the validation data?"
   ]
  },
  {
   "cell_type": "code",
   "execution_count": 12,
   "metadata": {
    "_cell_guid": "4f66b75c-c694-41a1-8c91-34bb6595837b",
    "_uuid": "d4ccbb559375bc2777ffb692a20adc313159f2cc"
   },
   "outputs": [
    {
     "name": "stderr",
     "output_type": "stream",
     "text": [
      "C:\\Users\\aadim\\Anaconda3\\envs\\tensorflow\\lib\\site-packages\\skimage\\io\\_plugins\\matplotlib_plugin.py:51: FutureWarning: Conversion of the second argument of issubdtype from `float` to `np.floating` is deprecated. In future, it will be treated as `np.float64 == np.dtype(float).type`.\n",
      "  out_of_range_float = (np.issubdtype(image.dtype, np.float) and\n"
     ]
    },
    {
     "data": {
      "image/png": "[encoded data removed]",
      "text/plain": [
       "<matplotlib.figure.Figure at 0x11b238d3dd8>"
      ]
     },
     "metadata": {},
     "output_type": "display_data"
    },
    {
     "data": {
      "image/png": "[encoded data removed]",
      "text/plain": [
       "<matplotlib.figure.Figure at 0x11b2393f978>"
      ]
     },
     "metadata": {},
     "output_type": "display_data"
    },
    {
     "data": {
      "image/png": "[encoded data removed]",
      "text/plain": [
       "<matplotlib.figure.Figure at 0x11b292dc7b8>"
      ]
     },
     "metadata": {},
     "output_type": "display_data"
    }
   ],
   "source": [
    "# Perform a sanity check on some random validation samples\n",
    "ix = random.randint(0, len(preds_val_t))\n",
    "imshow(X_train[int(X_train.shape[0]*0.9):][ix])\n",
    "plt.show()\n",
    "imshow(np.squeeze(Y_train[int(Y_train.shape[0]*0.9):][ix]))\n",
    "plt.show()\n",
    "imshow(np.squeeze(preds_val_t[ix]))\n",
    "plt.show()"
   ]
  },
  {
   "cell_type": "markdown",
   "metadata": {
    "_cell_guid": "a6690535-b2e4-49ac-98d9-7191bfabfb6f",
    "_uuid": "6a34c98de7c6ae473f676a34fe7e099b46764eca"
   },
   "source": [
    "Not too shabby! Definitely needs some more training and tweaking.\n",
    "\n",
    "# Encode and submit our results\n",
    "\n",
    "Now it's time to submit our results. I've stolen [this](https://www.kaggle.com/rakhlin/fast-run-length-encoding-python) excellent implementation of run-length encoding."
   ]
  },
  {
   "cell_type": "code",
   "execution_count": 13,
   "metadata": {
    "_cell_guid": "59a0af60-a7d7-41ef-a6fe-9e3c72defa07",
    "_uuid": "4f99c1bf852e82b60bd4f982ca0df293f712cdf0"
   },
   "outputs": [],
   "source": [
    "# Run-length encoding stolen from https://www.kaggle.com/rakhlin/fast-run-length-encoding-python\n",
    "def rle_encoding(x):\n",
    "    dots = np.where(x.T.flatten() == 1)[0]\n",
    "    run_lengths = []\n",
    "    prev = -2\n",
    "    for b in dots:\n",
    "        if (b>prev+1): run_lengths.extend((b + 1, 0))\n",
    "        run_lengths[-1] += 1\n",
    "        prev = b\n",
    "    return run_lengths\n",
    "\n",
    "def prob_to_rles(x, cutoff=0.5):\n",
    "    lab_img = label(x > cutoff)\n",
    "    for i in range(1, lab_img.max() + 1):\n",
    "        yield rle_encoding(lab_img == i)"
   ]
  },
  {
   "cell_type": "markdown",
   "metadata": {
    "_cell_guid": "31133f8c-3f40-4dff-8e1d-898d56672332",
    "_uuid": "2e07f6afc4787b068ba714428145dcb3951d718f"
   },
   "source": [
    "Let's iterate over the test IDs and generate run-length encodings for each seperate mask identified by skimage ..."
   ]
  },
  {
   "cell_type": "code",
   "execution_count": 14,
   "metadata": {
    "_cell_guid": "22fe24a1-7659-4cc9-9d23-211f38e5b99f",
    "_uuid": "089587843ed6a3955fdcb9b23a6ec3bf5d703688"
   },
   "outputs": [],
   "source": [
    "new_test_ids = []\n",
    "rles = []\n",
    "for n, id_ in enumerate(test_ids):\n",
    "    rle = list(prob_to_rles(preds_test_upsampled[n]))\n",
    "    rles.extend(rle)\n",
    "    new_test_ids.extend([id_] * len(rle))"
   ]
  },
  {
   "cell_type": "markdown",
   "metadata": {
    "_cell_guid": "20b6b627-0fd6-425d-888f-da7f39efb124",
    "_uuid": "849184a40a2c9c21506d8b8eb10ad9155fa229e8"
   },
   "source": [
    "... and then finally create our submission!"
   ]
  },
  {
   "cell_type": "code",
   "execution_count": 15,
   "metadata": {
    "_cell_guid": "1ba0ee3a-cca0-4349-83f6-09a1ac6fcb44",
    "_uuid": "ba589f56f5be1e6886bc88f5bf9e7d0a408e4048"
   },
   "outputs": [],
   "source": [
    "# Create submission DataFrame\n",
    "sub = pd.DataFrame()\n",
    "sub['ImageId'] = new_test_ids\n",
    "sub['EncodedPixels'] = pd.Series(rles).apply(lambda x: ' '.join(str(y) for y in x))\n",
    "sub.to_csv('sub-dsbowl2018-1.csv', index=False)"
   ]
  },
  {
   "cell_type": "markdown",
   "metadata": {
    "_cell_guid": "222475b9-3171-461a-90f0-a820a6bd2634",
    "_uuid": "fb5e6f8cca872f1bd7036f6d9ac2ed2cab615536",
    "collapsed": true
   },
   "source": [
    "This scored 0.233 on the LB for me. That was with version 2 of this notebook; be aware that the results from the neural network are extremely erratic and vary greatly from run to run (version 3 is significantly worse, for example). Version 7 scores 0.277!\n",
    "\n",
    "You should easily be able to stabilize and improve the results just by changing a few parameters, tweaking the architecture a little bit and training longer with early stopping.\n",
    "\n",
    "**Have fun!**\n",
    "\n",
    "LB score history:\n",
    "- Version 7: 0.277 LB"
   ]
  },
  {
   "cell_type": "code",
   "execution_count": null,
   "metadata": {
    "_cell_guid": "3f5e5a47-6133-4870-976a-a8e4fa7bf46c",
    "_uuid": "2a83eab66bf55194f300953bea5534b6a043130f",
    "collapsed": true
   },
   "outputs": [],
   "source": []
  }
 ],
 "metadata": {
  "kernelspec": {
   "display_name": "Python [default]",
   "language": "python",
   "name": "python3"
  },
  "language_info": {
   "codemirror_mode": {
    "name": "ipython",
    "version": 3
   },
   "file_extension": ".py",
   "mimetype": "text/x-python",
   "name": "python",
   "nbconvert_exporter": "python",
   "pygments_lexer": "ipython3",
   "version": "3.5.4"
  }
 },
 "nbformat": 4,
 "nbformat_minor": 1
}
